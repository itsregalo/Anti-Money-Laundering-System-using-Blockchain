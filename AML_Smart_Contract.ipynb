{
  "nbformat": 4,
  "nbformat_minor": 0,
  "metadata": {
    "colab": {
      "provenance": []
    },
    "kernelspec": {
      "name": "python3",
      "display_name": "Python 3"
    },
    "language_info": {
      "name": "python"
    }
  },
  "cells": [
    {
      "cell_type": "code",
      "source": [
        "!pip install py-solc-x"
      ],
      "metadata": {
        "colab": {
          "base_uri": "https://localhost:8080/"
        },
        "id": "SdoWkNHL2dqg",
        "outputId": "38b7d77f-a9a0-4a52-fffe-e2f0c3ddd8ff"
      },
      "execution_count": 3,
      "outputs": [
        {
          "output_type": "stream",
          "name": "stdout",
          "text": [
            "Looking in indexes: https://pypi.org/simple, https://us-python.pkg.dev/colab-wheels/public/simple/\n",
            "Collecting py-solc-x\n",
            "  Downloading py_solc_x-1.1.1-py3-none-any.whl (15 kB)\n",
            "Collecting semantic-version<3,>=2.8.1\n",
            "  Downloading semantic_version-2.10.0-py2.py3-none-any.whl (15 kB)\n",
            "Requirement already satisfied: requests<3,>=2.19.0 in /usr/local/lib/python3.10/dist-packages (from py-solc-x) (2.27.1)\n",
            "Requirement already satisfied: idna<4,>=2.5 in /usr/local/lib/python3.10/dist-packages (from requests<3,>=2.19.0->py-solc-x) (3.4)\n",
            "Requirement already satisfied: charset-normalizer~=2.0.0 in /usr/local/lib/python3.10/dist-packages (from requests<3,>=2.19.0->py-solc-x) (2.0.12)\n",
            "Requirement already satisfied: urllib3<1.27,>=1.21.1 in /usr/local/lib/python3.10/dist-packages (from requests<3,>=2.19.0->py-solc-x) (1.26.15)\n",
            "Requirement already satisfied: certifi>=2017.4.17 in /usr/local/lib/python3.10/dist-packages (from requests<3,>=2.19.0->py-solc-x) (2022.12.7)\n",
            "Installing collected packages: semantic-version, py-solc-x\n",
            "Successfully installed py-solc-x-1.1.1 semantic-version-2.10.0\n"
          ]
        }
      ]
    },
    {
      "cell_type": "code",
      "execution_count": 4,
      "metadata": {
        "id": "XVxdUmLy2N7D"
      },
      "outputs": [],
      "source": [
        "from solcx import compile_source"
      ]
    },
    {
      "cell_type": "code",
      "source": [
        "from solcx import compile_standard, install_solc\n",
        "# whichever version u want to use\n",
        "install_solc(\"0.8.0\")"
      ],
      "metadata": {
        "colab": {
          "base_uri": "https://localhost:8080/"
        },
        "id": "8RO5irIJ330h",
        "outputId": "d36307c4-8ae5-438b-b22f-55505e5cf241"
      },
      "execution_count": 6,
      "outputs": [
        {
          "output_type": "execute_result",
          "data": {
            "text/plain": [
              "Version('0.8.0')"
            ]
          },
          "metadata": {},
          "execution_count": 6
        }
      ]
    },
    {
      "cell_type": "code",
      "source": [
        "compiled_solidity = compile_source (\n",
        "'''\n",
        "// Anti-Money Laundering Smart Contract\n",
        "// SPDX-License-Identifier: GPL-3.0\n",
        "\n",
        "pragma solidity >=0.7.0 <0.9.0;\n",
        "\n",
        "contract AntiMoneyLaundering {\n",
        "    address public admin;\n",
        "    uint public threshold;\n",
        "    mapping(address => uint) public balances;\n",
        "\n",
        "    constructor() {\n",
        "        admin = msg.sender;\n",
        "        threshold = 100 ether;\n",
        "    }\n",
        "\n",
        "    function deposit() public payable {\n",
        "        balances[msg.sender] += msg.value;\n",
        "    }\n",
        "\n",
        "    function withdraw(uint amount) public {\n",
        "        require(balances[msg.sender] >= amount, \"Insufficient balance.\");\n",
        "        balances[msg.sender] -= amount;\n",
        "       payable( msg.sender).transfer(amount);\n",
        "    }\n",
        "\n",
        "    function transfer(address to, uint amount) public {\n",
        "        require(balances[msg.sender] >= amount, \"Insufficient balance.\");\n",
        "        require(balances[to] + amount >= balances[to], \"Overflow error.\");\n",
        "        balances[msg.sender] -= amount;\n",
        "        balances[to] += amount;\n",
        "        \n",
        "        if (balances[msg.sender] >= threshold) {\n",
        "            // Log a suspicious transaction\n",
        "            emit SuspiciousTransaction(msg.sender, to, amount);\n",
        "        }\n",
        "    }\n",
        "\n",
        "    event SuspiciousTransaction(address from, address to, uint amount);\n",
        "}\n",
        "\n",
        "'''\n",
        ", output_values=['abi','bin'])"
      ],
      "metadata": {
        "id": "26ODoza82cgK"
      },
      "execution_count": 7,
      "outputs": []
    },
    {
      "cell_type": "code",
      "source": [
        "compiled_solidity"
      ],
      "metadata": {
        "colab": {
          "base_uri": "https://localhost:8080/"
        },
        "id": "gpMMcvPc37zV",
        "outputId": "67880baa-a1c5-4b39-9818-a41adab1c1f0"
      },
      "execution_count": 8,
      "outputs": [
        {
          "output_type": "execute_result",
          "data": {
            "text/plain": [
              "{'<stdin>:AntiMoneyLaundering': {'abi': [{'inputs': [],\n",
              "    'stateMutability': 'nonpayable',\n",
              "    'type': 'constructor'},\n",
              "   {'anonymous': False,\n",
              "    'inputs': [{'indexed': False,\n",
              "      'internalType': 'address',\n",
              "      'name': 'from',\n",
              "      'type': 'address'},\n",
              "     {'indexed': False,\n",
              "      'internalType': 'address',\n",
              "      'name': 'to',\n",
              "      'type': 'address'},\n",
              "     {'indexed': False,\n",
              "      'internalType': 'uint256',\n",
              "      'name': 'amount',\n",
              "      'type': 'uint256'}],\n",
              "    'name': 'SuspiciousTransaction',\n",
              "    'type': 'event'},\n",
              "   {'inputs': [],\n",
              "    'name': 'admin',\n",
              "    'outputs': [{'internalType': 'address', 'name': '', 'type': 'address'}],\n",
              "    'stateMutability': 'view',\n",
              "    'type': 'function'},\n",
              "   {'inputs': [{'internalType': 'address', 'name': '', 'type': 'address'}],\n",
              "    'name': 'balances',\n",
              "    'outputs': [{'internalType': 'uint256', 'name': '', 'type': 'uint256'}],\n",
              "    'stateMutability': 'view',\n",
              "    'type': 'function'},\n",
              "   {'inputs': [],\n",
              "    'name': 'deposit',\n",
              "    'outputs': [],\n",
              "    'stateMutability': 'payable',\n",
              "    'type': 'function'},\n",
              "   {'inputs': [],\n",
              "    'name': 'threshold',\n",
              "    'outputs': [{'internalType': 'uint256', 'name': '', 'type': 'uint256'}],\n",
              "    'stateMutability': 'view',\n",
              "    'type': 'function'},\n",
              "   {'inputs': [{'internalType': 'address', 'name': 'to', 'type': 'address'},\n",
              "     {'internalType': 'uint256', 'name': 'amount', 'type': 'uint256'}],\n",
              "    'name': 'transfer',\n",
              "    'outputs': [],\n",
              "    'stateMutability': 'nonpayable',\n",
              "    'type': 'function'},\n",
              "   {'inputs': [{'internalType': 'uint256',\n",
              "      'name': 'amount',\n",
              "      'type': 'uint256'}],\n",
              "    'name': 'withdraw',\n",
              "    'outputs': [],\n",
              "    'stateMutability': 'nonpayable',\n",
              "    'type': 'function'}],\n",
              "  'bin': '608060405234801561001057600080fd5b50336000806101000a81548173ffffffffffffffffffffffffffffffffffffffff021916908373ffffffffffffffffffffffffffffffffffffffff16021790555068056bc75e2d631000006001819055506108f4806100706000396000f3fe6080604052600436106100555760003560e01c806327e235e31461005a5780632e1a7d4d1461009757806342cde4e8146100c0578063a9059cbb146100eb578063d0e30db014610114578063f851a4401461011e575b600080fd5b34801561006657600080fd5b50610081600480360381019061007c91906105b1565b610149565b60405161008e919061076f565b60405180910390f35b3480156100a357600080fd5b506100be60048036038101906100b99190610616565b610161565b005b3480156100cc57600080fd5b506100d5610283565b6040516100e2919061076f565b60405180910390f35b3480156100f757600080fd5b50610112600480360381019061010d91906105da565b610289565b005b61011c61050b565b005b34801561012a57600080fd5b50610133610563565b60405161014091906106dd565b60405180910390f35b60026020528060005260406000206000915090505481565b80600260003373ffffffffffffffffffffffffffffffffffffffff1673ffffffffffffffffffffffffffffffffffffffff1681526020019081526020016000205410156101e3576040517f08c379a00000000000000000000000000000000000000000000000000000000081526004016101da9061072f565b60405180910390fd5b80600260003373ffffffffffffffffffffffffffffffffffffffff1673ffffffffffffffffffffffffffffffffffffffff168152602001908152602001600020600082825461023291906107f1565b925050819055503373ffffffffffffffffffffffffffffffffffffffff166108fc829081150290604051600060405180830381858888f1935050505015801561027f573d6000803e3d6000fd5b5050565b60015481565b80600260003373ffffffffffffffffffffffffffffffffffffffff1673ffffffffffffffffffffffffffffffffffffffff16815260200190815260200160002054101561030b576040517f08c379a00000000000000000000000000000000000000000000000000000000081526004016103029061072f565b60405180910390fd5b600260008373ffffffffffffffffffffffffffffffffffffffff1673ffffffffffffffffffffffffffffffffffffffff1681526020019081526020016000205481600260008573ffffffffffffffffffffffffffffffffffffffff1673ffffffffffffffffffffffffffffffffffffffff16815260200190815260200160002054610396919061079b565b10156103d7576040517f08c379a00000000000000000000000000000000000000000000000000000000081526004016103ce9061074f565b60405180910390fd5b80600260003373ffffffffffffffffffffffffffffffffffffffff1673ffffffffffffffffffffffffffffffffffffffff168152602001908152602001600020600082825461042691906107f1565b9250508190555080600260008473ffffffffffffffffffffffffffffffffffffffff1673ffffffffffffffffffffffffffffffffffffffff168152602001908152602001600020600082825461047c919061079b565b92505081905550600154600260003373ffffffffffffffffffffffffffffffffffffffff1673ffffffffffffffffffffffffffffffffffffffff1681526020019081526020016000205410610507577f60ba8c3134edaf1bb654564c828696e3b75675c8298410bfdd8b6a62401477063383836040516104fe939291906106f8565b60405180910390a15b5050565b34600260003373ffffffffffffffffffffffffffffffffffffffff1673ffffffffffffffffffffffffffffffffffffffff168152602001908152602001600020600082825461055a919061079b565b92505081905550565b60008054906101000a900473ffffffffffffffffffffffffffffffffffffffff1681565b60008135905061059681610890565b92915050565b6000813590506105ab816108a7565b92915050565b6000602082840312156105c357600080fd5b60006105d184828501610587565b91505092915050565b600080604083850312156105ed57600080fd5b60006105fb85828601610587565b925050602061060c8582860161059c565b9150509250929050565b60006020828403121561062857600080fd5b60006106368482850161059c565b91505092915050565b61064881610825565b82525050565b600061065b60158361078a565b91507f496e73756666696369656e742062616c616e63652e00000000000000000000006000830152602082019050919050565b600061069b600f8361078a565b91507f4f766572666c6f77206572726f722e00000000000000000000000000000000006000830152602082019050919050565b6106d781610857565b82525050565b60006020820190506106f2600083018461063f565b92915050565b600060608201905061070d600083018661063f565b61071a602083018561063f565b61072760408301846106ce565b949350505050565b600060208201905081810360008301526107488161064e565b9050919050565b600060208201905081810360008301526107688161068e565b9050919050565b600060208201905061078460008301846106ce565b92915050565b600082825260208201905092915050565b60006107a682610857565b91506107b183610857565b9250827fffffffffffffffffffffffffffffffffffffffffffffffffffffffffffffffff038211156107e6576107e5610861565b5b828201905092915050565b60006107fc82610857565b915061080783610857565b92508282101561081a57610819610861565b5b828203905092915050565b600061083082610837565b9050919050565b600073ffffffffffffffffffffffffffffffffffffffff82169050919050565b6000819050919050565b7f4e487b7100000000000000000000000000000000000000000000000000000000600052601160045260246000fd5b61089981610825565b81146108a457600080fd5b50565b6108b081610857565b81146108bb57600080fd5b5056fea26469706673582212205ae8cc5e24e73c05debdb27d2700dc5c286a86dd27b344bfb1a40809f8e8d77b64736f6c63430008000033'}}"
            ]
          },
          "metadata": {},
          "execution_count": 8
        }
      ]
    },
    {
      "cell_type": "code",
      "source": [
        "contract_id, contract_interface = compiled_solidity.popitem()"
      ],
      "metadata": {
        "id": "_iPSwhHJ4SYV"
      },
      "execution_count": 9,
      "outputs": []
    },
    {
      "cell_type": "code",
      "source": [
        "print(contract_id)"
      ],
      "metadata": {
        "colab": {
          "base_uri": "https://localhost:8080/"
        },
        "id": "hEVnHvmf4sot",
        "outputId": "5a47bf67-6876-4bb3-e08a-1833c44d420c"
      },
      "execution_count": 10,
      "outputs": [
        {
          "output_type": "stream",
          "name": "stdout",
          "text": [
            "<stdin>:AntiMoneyLaundering\n"
          ]
        }
      ]
    },
    {
      "cell_type": "code",
      "source": [
        "print(contract_interface)"
      ],
      "metadata": {
        "colab": {
          "base_uri": "https://localhost:8080/"
        },
        "id": "grCXVOj34xsv",
        "outputId": "fceefce9-5219-45a6-c4f0-36cdfb57eac2"
      },
      "execution_count": 11,
      "outputs": [
        {
          "output_type": "stream",
          "name": "stdout",
          "text": [
            "{'abi': [{'inputs': [], 'stateMutability': 'nonpayable', 'type': 'constructor'}, {'anonymous': False, 'inputs': [{'indexed': False, 'internalType': 'address', 'name': 'from', 'type': 'address'}, {'indexed': False, 'internalType': 'address', 'name': 'to', 'type': 'address'}, {'indexed': False, 'internalType': 'uint256', 'name': 'amount', 'type': 'uint256'}], 'name': 'SuspiciousTransaction', 'type': 'event'}, {'inputs': [], 'name': 'admin', 'outputs': [{'internalType': 'address', 'name': '', 'type': 'address'}], 'stateMutability': 'view', 'type': 'function'}, {'inputs': [{'internalType': 'address', 'name': '', 'type': 'address'}], 'name': 'balances', 'outputs': [{'internalType': 'uint256', 'name': '', 'type': 'uint256'}], 'stateMutability': 'view', 'type': 'function'}, {'inputs': [], 'name': 'deposit', 'outputs': [], 'stateMutability': 'payable', 'type': 'function'}, {'inputs': [], 'name': 'threshold', 'outputs': [{'internalType': 'uint256', 'name': '', 'type': 'uint256'}], 'stateMutability': 'view', 'type': 'function'}, {'inputs': [{'internalType': 'address', 'name': 'to', 'type': 'address'}, {'internalType': 'uint256', 'name': 'amount', 'type': 'uint256'}], 'name': 'transfer', 'outputs': [], 'stateMutability': 'nonpayable', 'type': 'function'}, {'inputs': [{'internalType': 'uint256', 'name': 'amount', 'type': 'uint256'}], 'name': 'withdraw', 'outputs': [], 'stateMutability': 'nonpayable', 'type': 'function'}], 'bin': '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'}\n"
          ]
        }
      ]
    },
    {
      "cell_type": "markdown",
      "source": [
        "## ABI\n"
      ],
      "metadata": {
        "id": "mmXSFG2m486g"
      }
    },
    {
      "cell_type": "code",
      "source": [
        "contract_interface['abi']"
      ],
      "metadata": {
        "colab": {
          "base_uri": "https://localhost:8080/"
        },
        "id": "KETPbC4Y48Rf",
        "outputId": "af85d3e9-34ba-474f-be8d-321f2dc63a1b"
      },
      "execution_count": 12,
      "outputs": [
        {
          "output_type": "execute_result",
          "data": {
            "text/plain": [
              "[{'inputs': [], 'stateMutability': 'nonpayable', 'type': 'constructor'},\n",
              " {'anonymous': False,\n",
              "  'inputs': [{'indexed': False,\n",
              "    'internalType': 'address',\n",
              "    'name': 'from',\n",
              "    'type': 'address'},\n",
              "   {'indexed': False,\n",
              "    'internalType': 'address',\n",
              "    'name': 'to',\n",
              "    'type': 'address'},\n",
              "   {'indexed': False,\n",
              "    'internalType': 'uint256',\n",
              "    'name': 'amount',\n",
              "    'type': 'uint256'}],\n",
              "  'name': 'SuspiciousTransaction',\n",
              "  'type': 'event'},\n",
              " {'inputs': [],\n",
              "  'name': 'admin',\n",
              "  'outputs': [{'internalType': 'address', 'name': '', 'type': 'address'}],\n",
              "  'stateMutability': 'view',\n",
              "  'type': 'function'},\n",
              " {'inputs': [{'internalType': 'address', 'name': '', 'type': 'address'}],\n",
              "  'name': 'balances',\n",
              "  'outputs': [{'internalType': 'uint256', 'name': '', 'type': 'uint256'}],\n",
              "  'stateMutability': 'view',\n",
              "  'type': 'function'},\n",
              " {'inputs': [],\n",
              "  'name': 'deposit',\n",
              "  'outputs': [],\n",
              "  'stateMutability': 'payable',\n",
              "  'type': 'function'},\n",
              " {'inputs': [],\n",
              "  'name': 'threshold',\n",
              "  'outputs': [{'internalType': 'uint256', 'name': '', 'type': 'uint256'}],\n",
              "  'stateMutability': 'view',\n",
              "  'type': 'function'},\n",
              " {'inputs': [{'internalType': 'address', 'name': 'to', 'type': 'address'},\n",
              "   {'internalType': 'uint256', 'name': 'amount', 'type': 'uint256'}],\n",
              "  'name': 'transfer',\n",
              "  'outputs': [],\n",
              "  'stateMutability': 'nonpayable',\n",
              "  'type': 'function'},\n",
              " {'inputs': [{'internalType': 'uint256', 'name': 'amount', 'type': 'uint256'}],\n",
              "  'name': 'withdraw',\n",
              "  'outputs': [],\n",
              "  'stateMutability': 'nonpayable',\n",
              "  'type': 'function'}]"
            ]
          },
          "metadata": {},
          "execution_count": 12
        }
      ]
    },
    {
      "cell_type": "code",
      "source": [
        "contract_interface['bin']"
      ],
      "metadata": {
        "colab": {
          "base_uri": "https://localhost:8080/",
          "height": 105
        },
        "id": "7vEzJcsF5Kuh",
        "outputId": "63ee95ec-d7f7-4d3b-d9ec-83109ec89928"
      },
      "execution_count": 13,
      "outputs": [
        {
          "output_type": "execute_result",
          "data": {
            "text/plain": [
              "'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'"
            ],
            "application/vnd.google.colaboratory.intrinsic+json": {
              "type": "string"
            }
          },
          "metadata": {},
          "execution_count": 13
        }
      ]
    },
    {
      "cell_type": "code",
      "source": [
        "contract_path = \"Anti-Money-Laundering.sol\"\n",
        "\n",
        "with open(contract_path, 'r') as file:\n",
        "  contract_file = file.read()\n",
        "\n",
        "print(contract_file)"
      ],
      "metadata": {
        "colab": {
          "base_uri": "https://localhost:8080/"
        },
        "id": "SP0m9pGz6h2c",
        "outputId": "bf675d60-719a-41dc-9a57-d9cabc0de0cd"
      },
      "execution_count": 14,
      "outputs": [
        {
          "output_type": "stream",
          "name": "stdout",
          "text": [
            "// Anti-Money Laundering Smart Contract\n",
            "// SPDX-License-Identifier: GPL-3.0\n",
            "\n",
            "pragma solidity >=0.7.0 <0.9.0;\n",
            "\n",
            "contract AntiMoneyLaundering {\n",
            "    address public admin;\n",
            "    uint public threshold;\n",
            "    mapping(address => uint) public balances;\n",
            "\n",
            "    constructor() {\n",
            "        admin = msg.sender;\n",
            "        threshold = 100 ether;\n",
            "    }\n",
            "\n",
            "    function deposit() public payable {\n",
            "        balances[msg.sender] += msg.value;\n",
            "    }\n",
            "\n",
            "    function withdraw(uint amount) public {\n",
            "        require(balances[msg.sender] >= amount, \"Insufficient balance.\");\n",
            "        balances[msg.sender] -= amount;\n",
            "       payable( msg.sender).transfer(amount);\n",
            "    }\n",
            "\n",
            "    function transfer(address to, uint amount) public {\n",
            "        require(balances[msg.sender] >= amount, \"Insufficient balance.\");\n",
            "        require(balances[to] + amount >= balances[to], \"Overflow error.\");\n",
            "        balances[msg.sender] -= amount;\n",
            "        balances[to] += amount;\n",
            "        \n",
            "        if (balances[msg.sender] >= threshold) {\n",
            "            // Log a suspicious transaction\n",
            "            emit SuspiciousTransaction(msg.sender, to, amount);\n",
            "        }\n",
            "    }\n",
            "\n",
            "    event SuspiciousTransaction(address from, address to, uint amount);\n",
            "}\n",
            "\n"
          ]
        }
      ]
    },
    {
      "cell_type": "code",
      "source": [],
      "metadata": {
        "id": "ITsgGkad7VNj"
      },
      "execution_count": null,
      "outputs": []
    }
  ]
}